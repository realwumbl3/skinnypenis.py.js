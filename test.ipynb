{
 "cells": [
  {
   "cell_type": "code",
   "execution_count": null,
   "metadata": {},
   "outputs": [],
   "source": [
    "import importlib\n",
    "import os\n",
    "import re\n",
    "from glob import glob\n",
    "import logging\n",
    "\n",
    "PY_COMMANDS = [os.path.splitext(os.path.basename(x))[0] for x in glob(\"commands/*.py\")]\n",
    "PY_COMMANDS_HUMAN = re.compile(rf\"^\\/({'|'.join(PY_COMMANDS)}) (.*)?\")\n",
    "\n",
    "def matchCommand(content):\n",
    "    if match := PY_COMMANDS_HUMAN.match(content):\n",
    "        return (match.group(1), match.group(2))\n",
    "    return None\n",
    "\n",
    "\n",
    "print(matchCommand(\"/clearchat\"))"
   ]
  },
  {
   "cell_type": "code",
   "execution_count": 1,
   "metadata": {},
   "outputs": [],
   "source": [
    "import re\n",
    "\n",
    "commands = [\"command\", \"foo\", \"bar\", \"clear\", \"help\", \"exit\"]\n",
    "\n",
    "regex = r\"^\\/({})(?:\\s+(.+))?$\".format(\"|\".join(commands))\n",
    "\n",
    "inputs = [\n",
    "    \"/command\",\n",
    "    \"/command \",\n",
    "    \"/command test\",\n",
    "    \"/commander\",\n",
    "]"
   ]
  },
  {
   "cell_type": "code",
   "execution_count": 3,
   "metadata": {},
   "outputs": [
    {
     "name": "stdout",
     "output_type": "stream",
     "text": [
      "input: \"/command\"\n",
      "('command', None)\n",
      "input: \"/command \"\n",
      "no match\n",
      "input: \"/command test\"\n",
      "('command', 'test')\n",
      "input: \"/commander\"\n",
      "no match\n"
     ]
    }
   ],
   "source": [
    "for input in inputs:\n",
    "    match = re.match(regex, input)\n",
    "    print(\"input:\", f'\"{input}\"')\n",
    "    if match:\n",
    "        print(match.groups())\n",
    "    else:\n",
    "        print(\"no match\")"
   ]
  }
 ],
 "metadata": {
  "kernelspec": {
   "display_name": "venv",
   "language": "python",
   "name": "python3"
  },
  "language_info": {
   "codemirror_mode": {
    "name": "ipython",
    "version": 3
   },
   "file_extension": ".py",
   "mimetype": "text/x-python",
   "name": "python",
   "nbconvert_exporter": "python",
   "pygments_lexer": "ipython3",
   "version": "3.9.18"
  }
 },
 "nbformat": 4,
 "nbformat_minor": 2
}
